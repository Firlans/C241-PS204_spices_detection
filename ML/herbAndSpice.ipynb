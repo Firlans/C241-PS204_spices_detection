{
  "nbformat": 4,
  "nbformat_minor": 0,
  "metadata": {
    "colab": {
      "provenance": [],
      "gpuType": "T4"
    },
    "kernelspec": {
      "name": "python3",
      "display_name": "Python 3"
    },
    "language_info": {
      "name": "python"
    },
    "accelerator": "GPU"
  },
  "cells": [
    {
      "cell_type": "code",
      "source": [
        "# Environment Setup: Install necessary libraries\n",
        "!pip install kaggle\n",
        "!kaggle datasets download -d tubagusaldi/datasetku3\n",
        "!pip install split-folders\n"
      ],
      "metadata": {
        "colab": {
          "base_uri": "https://localhost:8080/"
        },
        "id": "GJcPoTfMYKsc",
        "outputId": "ae1a961f-4bc7-478d-d9ce-9bc36653bccb"
      },
      "execution_count": 1,
      "outputs": [
        {
          "output_type": "stream",
          "name": "stdout",
          "text": [
            "Requirement already satisfied: kaggle in /usr/local/lib/python3.10/dist-packages (1.6.14)\n",
            "Requirement already satisfied: six>=1.10 in /usr/local/lib/python3.10/dist-packages (from kaggle) (1.16.0)\n",
            "Requirement already satisfied: certifi>=2023.7.22 in /usr/local/lib/python3.10/dist-packages (from kaggle) (2024.6.2)\n",
            "Requirement already satisfied: python-dateutil in /usr/local/lib/python3.10/dist-packages (from kaggle) (2.8.2)\n",
            "Requirement already satisfied: requests in /usr/local/lib/python3.10/dist-packages (from kaggle) (2.31.0)\n",
            "Requirement already satisfied: tqdm in /usr/local/lib/python3.10/dist-packages (from kaggle) (4.66.4)\n",
            "Requirement already satisfied: python-slugify in /usr/local/lib/python3.10/dist-packages (from kaggle) (8.0.4)\n",
            "Requirement already satisfied: urllib3 in /usr/local/lib/python3.10/dist-packages (from kaggle) (2.0.7)\n",
            "Requirement already satisfied: bleach in /usr/local/lib/python3.10/dist-packages (from kaggle) (6.1.0)\n",
            "Requirement already satisfied: webencodings in /usr/local/lib/python3.10/dist-packages (from bleach->kaggle) (0.5.1)\n",
            "Requirement already satisfied: text-unidecode>=1.3 in /usr/local/lib/python3.10/dist-packages (from python-slugify->kaggle) (1.3)\n",
            "Requirement already satisfied: charset-normalizer<4,>=2 in /usr/local/lib/python3.10/dist-packages (from requests->kaggle) (3.3.2)\n",
            "Requirement already satisfied: idna<4,>=2.5 in /usr/local/lib/python3.10/dist-packages (from requests->kaggle) (3.7)\n",
            "Dataset URL: https://www.kaggle.com/datasets/tubagusaldi/datasetku3\n",
            "License(s): unknown\n",
            "Downloading datasetku3.zip to /content\n",
            " 99% 2.14G/2.16G [00:23<00:00, 158MB/s]\n",
            "100% 2.16G/2.16G [00:23<00:00, 97.8MB/s]\n",
            "Collecting split-folders\n",
            "  Downloading split_folders-0.5.1-py3-none-any.whl (8.4 kB)\n",
            "Installing collected packages: split-folders\n",
            "Successfully installed split-folders-0.5.1\n"
          ]
        }
      ]
    },
    {
      "cell_type": "code",
      "source": [
        "# Import Libraries\n",
        "import os\n",
        "import zipfile\n",
        "import numpy as np\n",
        "import splitfolders\n",
        "import matplotlib.pyplot as plt\n",
        "import tensorflow as tf\n",
        "from tensorflow.keras.preprocessing.image import ImageDataGenerator\n",
        "from tensorflow.keras.models import Sequential\n",
        "from tensorflow.keras.layers import Dense, Dropout, GlobalAveragePooling2D\n",
        "from tensorflow.keras.optimizers import SGD\n",
        "from tensorflow.keras.applications import VGG16\n",
        "from tensorflow.keras.callbacks import EarlyStopping\n",
        "from tensorflow.keras.regularizers import l2"
      ],
      "metadata": {
        "id": "Fdp33o4dYMfr"
      },
      "execution_count": 2,
      "outputs": []
    },
    {
      "cell_type": "code",
      "source": [
        "# Prepare Dataset\n",
        "local_zip = r'/content/datasetku3.zip'\n",
        "zip_ref = zipfile.ZipFile(local_zip, 'r')\n",
        "zip_ref.extractall(r'/content/')\n",
        "zip_ref.close()"
      ],
      "metadata": {
        "id": "SvUakCeuYPQx"
      },
      "execution_count": 3,
      "outputs": []
    },
    {
      "cell_type": "code",
      "source": [
        "capstone_path = '/content/Datasetku3'\n",
        "input_folder = capstone_path\n",
        "output_folder = 'dataset_split'"
      ],
      "metadata": {
        "id": "68Z9LVS4YRNh"
      },
      "execution_count": 4,
      "outputs": []
    },
    {
      "cell_type": "code",
      "source": [
        "splitfolders.ratio(input_folder, output=output_folder, seed=1337, ratio=(.7, .3), group_prefix=None)"
      ],
      "metadata": {
        "colab": {
          "base_uri": "https://localhost:8080/"
        },
        "id": "VA5AMavBYSSA",
        "outputId": "4bcb8cc5-4534-43de-cadf-2fcf322657a6"
      },
      "execution_count": 5,
      "outputs": [
        {
          "output_type": "stream",
          "name": "stderr",
          "text": [
            "Copying files: 3600 files [00:17, 210.67 files/s] \n"
          ]
        }
      ]
    },
    {
      "cell_type": "code",
      "source": [
        "def custom_preprocessing(image):\n",
        "    # Convert image to tensor\n",
        "    image = tf.image.convert_image_dtype(image, dtype=tf.float32)\n",
        "    # Randomly adjust brightness\n",
        "    image = tf.image.random_brightness(image, max_delta=0.2)\n",
        "    # Randomly adjust contrast\n",
        "    image = tf.image.random_contrast(image, lower=0.8, upper=1.2)\n",
        "    return image"
      ],
      "metadata": {
        "id": "0M1hPQBsYTSo"
      },
      "execution_count": 6,
      "outputs": []
    },
    {
      "cell_type": "code",
      "source": [
        "base_dir = capstone_path\n",
        "train_dir = os.path.join(base_dir, '/content/dataset_split/train')\n",
        "validation_dir = os.path.join(base_dir, '/content/dataset_split/val')"
      ],
      "metadata": {
        "id": "VyhCRijyYUag"
      },
      "execution_count": 7,
      "outputs": []
    },
    {
      "cell_type": "code",
      "source": [
        "# Applying Data Augmentation\n",
        "train_datagen = ImageDataGenerator(\n",
        "    rescale=1./255,\n",
        "    rotation_range=40,\n",
        "    width_shift_range=0.2,\n",
        "    height_shift_range=0.2,\n",
        "    shear_range=0.2,\n",
        "    zoom_range=0.2,\n",
        "    horizontal_flip=True,\n",
        "    fill_mode='nearest'\n",
        ")"
      ],
      "metadata": {
        "id": "Rrpg1AmgYW2Y"
      },
      "execution_count": 8,
      "outputs": []
    },
    {
      "cell_type": "code",
      "source": [
        "validation_datagen = ImageDataGenerator(rescale=1./255)"
      ],
      "metadata": {
        "id": "VTibGj06YX_x"
      },
      "execution_count": 9,
      "outputs": []
    },
    {
      "cell_type": "code",
      "source": [
        "train_generator = train_datagen.flow_from_directory(\n",
        "    train_dir,\n",
        "    target_size=(150, 150),\n",
        "    batch_size=32,\n",
        "    class_mode='categorical'\n",
        ")"
      ],
      "metadata": {
        "colab": {
          "base_uri": "https://localhost:8080/"
        },
        "id": "dUUL_EzJYY6H",
        "outputId": "849d4784-c96f-4558-da31-e3de582ace4f"
      },
      "execution_count": 10,
      "outputs": [
        {
          "output_type": "stream",
          "name": "stdout",
          "text": [
            "Found 2519 images belonging to 12 classes.\n"
          ]
        }
      ]
    },
    {
      "cell_type": "code",
      "source": [
        "validation_generator = validation_datagen.flow_from_directory(\n",
        "    validation_dir,\n",
        "    target_size=(150, 150),\n",
        "    batch_size=32,\n",
        "    class_mode='categorical',\n",
        ")"
      ],
      "metadata": {
        "colab": {
          "base_uri": "https://localhost:8080/"
        },
        "id": "ldg3OcYxYZwJ",
        "outputId": "d94ad906-88e9-4b80-916c-dc4e746423f0"
      },
      "execution_count": 11,
      "outputs": [
        {
          "output_type": "stream",
          "name": "stdout",
          "text": [
            "Found 1077 images belonging to 12 classes.\n"
          ]
        }
      ]
    },
    {
      "cell_type": "code",
      "source": [
        "# Print number of classes\n",
        "num_classes = len(train_generator.class_indices)\n",
        "print(f'Number of classes: {num_classes}')"
      ],
      "metadata": {
        "colab": {
          "base_uri": "https://localhost:8080/"
        },
        "id": "DUoNvSGjYauA",
        "outputId": "6f97c3e3-2ac3-41d6-bd8d-a1fa74e0bbff"
      },
      "execution_count": 12,
      "outputs": [
        {
          "output_type": "stream",
          "name": "stdout",
          "text": [
            "Number of classes: 12\n"
          ]
        }
      ]
    },
    {
      "cell_type": "code",
      "source": [
        "# Load VGG16 model, excluding the top layer\n",
        "base_model = VGG16(weights='imagenet', include_top=False, input_shape=(150, 150, 3))"
      ],
      "metadata": {
        "colab": {
          "base_uri": "https://localhost:8080/"
        },
        "id": "rS7ciE4uYcGY",
        "outputId": "db1181ab-75cc-40ca-f624-2ddbf9ca3d72"
      },
      "execution_count": 13,
      "outputs": [
        {
          "output_type": "stream",
          "name": "stdout",
          "text": [
            "Downloading data from https://storage.googleapis.com/tensorflow/keras-applications/vgg16/vgg16_weights_tf_dim_ordering_tf_kernels_notop.h5\n",
            "58889256/58889256 [==============================] - 0s 0us/step\n"
          ]
        }
      ]
    },
    {
      "cell_type": "code",
      "source": [
        "# Unfreeze more layers for fine-tuning\n",
        "for layer in base_model.layers[-8:]:\n",
        "    layer.trainable = True\n"
      ],
      "metadata": {
        "id": "8vFEf1JnYdnS"
      },
      "execution_count": 14,
      "outputs": []
    },
    {
      "cell_type": "code",
      "source": [
        "model = Sequential([\n",
        "    base_model,\n",
        "    GlobalAveragePooling2D(),\n",
        "    Dense(512, activation='relu', kernel_regularizer=l2(0.001)),\n",
        "    Dropout(0.5),\n",
        "    Dense(num_classes, activation='softmax', kernel_regularizer=l2(0.001))\n",
        "])"
      ],
      "metadata": {
        "id": "7Na-0SsdiOmh"
      },
      "execution_count": 15,
      "outputs": []
    },
    {
      "cell_type": "code",
      "source": [
        "# Compile the model with SGD optimizer\n",
        "model.compile(\n",
        "    loss='categorical_crossentropy',\n",
        "    optimizer=SGD(learning_rate=0.001, momentum=0.9),\n",
        "    metrics=['accuracy']\n",
        ")"
      ],
      "metadata": {
        "id": "WRzUoqjiYe0h"
      },
      "execution_count": 16,
      "outputs": []
    },
    {
      "cell_type": "code",
      "source": [
        "# Early stopping callback\n",
        "early_stopping = EarlyStopping(monitor='val_loss', patience=5, restore_best_weights=True)"
      ],
      "metadata": {
        "id": "_tgGf-NUYgFY"
      },
      "execution_count": 17,
      "outputs": []
    },
    {
      "cell_type": "code",
      "source": [
        "# Train the model\n",
        "history = model.fit(\n",
        "    train_generator,\n",
        "    steps_per_epoch=train_generator.samples // train_generator.batch_size,\n",
        "    epochs=50,\n",
        "    validation_data=validation_generator,\n",
        "    validation_steps=validation_generator.samples // validation_generator.batch_size,\n",
        "    callbacks=[early_stopping]\n",
        ")"
      ],
      "metadata": {
        "colab": {
          "base_uri": "https://localhost:8080/"
        },
        "id": "Id_1EDa6YhZ3",
        "outputId": "d021e4fb-1c90-4a29-c99d-5a37451a2a7e"
      },
      "execution_count": 18,
      "outputs": [
        {
          "output_type": "stream",
          "name": "stdout",
          "text": [
            "Epoch 1/50\n",
            " 8/78 [==>...........................] - ETA: 42s - loss: 3.1099 - accuracy: 0.1016"
          ]
        },
        {
          "output_type": "stream",
          "name": "stderr",
          "text": [
            "/usr/local/lib/python3.10/dist-packages/PIL/Image.py:996: UserWarning: Palette images with Transparency expressed in bytes should be converted to RGBA images\n",
            "  warnings.warn(\n"
          ]
        },
        {
          "output_type": "stream",
          "name": "stdout",
          "text": [
            "78/78 [==============================] - 114s 1s/step - loss: 2.7302 - accuracy: 0.2380 - val_loss: 2.0175 - val_accuracy: 0.5095\n",
            "Epoch 2/50\n",
            "78/78 [==============================] - 84s 1s/step - loss: 1.7879 - accuracy: 0.5810 - val_loss: 1.4810 - val_accuracy: 0.6828\n",
            "Epoch 3/50\n",
            "78/78 [==============================] - 85s 1s/step - loss: 1.3667 - accuracy: 0.7250 - val_loss: 1.1743 - val_accuracy: 0.7907\n",
            "Epoch 4/50\n",
            "78/78 [==============================] - 87s 1s/step - loss: 1.2354 - accuracy: 0.7829 - val_loss: 1.0002 - val_accuracy: 0.8419\n",
            "Epoch 5/50\n",
            "78/78 [==============================] - 83s 1s/step - loss: 1.0317 - accuracy: 0.8347 - val_loss: 1.0505 - val_accuracy: 0.8381\n",
            "Epoch 6/50\n",
            "78/78 [==============================] - 83s 1s/step - loss: 0.9370 - accuracy: 0.8633 - val_loss: 0.9550 - val_accuracy: 0.8665\n",
            "Epoch 7/50\n",
            "78/78 [==============================] - 85s 1s/step - loss: 0.9262 - accuracy: 0.8794 - val_loss: 1.1273 - val_accuracy: 0.8087\n",
            "Epoch 8/50\n",
            "78/78 [==============================] - 87s 1s/step - loss: 0.9714 - accuracy: 0.8569 - val_loss: 0.9538 - val_accuracy: 0.8570\n",
            "Epoch 9/50\n",
            "78/78 [==============================] - 85s 1s/step - loss: 0.8534 - accuracy: 0.8938 - val_loss: 0.9171 - val_accuracy: 0.8712\n",
            "Epoch 10/50\n",
            "78/78 [==============================] - 87s 1s/step - loss: 0.8334 - accuracy: 0.8975 - val_loss: 0.8710 - val_accuracy: 0.8864\n",
            "Epoch 11/50\n",
            "78/78 [==============================] - 86s 1s/step - loss: 0.7549 - accuracy: 0.9208 - val_loss: 0.8730 - val_accuracy: 0.8977\n",
            "Epoch 12/50\n",
            "78/78 [==============================] - 86s 1s/step - loss: 0.7354 - accuracy: 0.9272 - val_loss: 0.8571 - val_accuracy: 0.8977\n",
            "Epoch 13/50\n",
            "78/78 [==============================] - 85s 1s/step - loss: 0.7352 - accuracy: 0.9329 - val_loss: 0.8024 - val_accuracy: 0.9100\n",
            "Epoch 14/50\n",
            "78/78 [==============================] - 94s 1s/step - loss: 0.6856 - accuracy: 0.9437 - val_loss: 0.8159 - val_accuracy: 0.9015\n",
            "Epoch 15/50\n",
            "78/78 [==============================] - 86s 1s/step - loss: 0.6583 - accuracy: 0.9578 - val_loss: 0.8111 - val_accuracy: 0.9167\n",
            "Epoch 16/50\n",
            "78/78 [==============================] - 86s 1s/step - loss: 0.6864 - accuracy: 0.9421 - val_loss: 0.8508 - val_accuracy: 0.9025\n",
            "Epoch 17/50\n",
            "78/78 [==============================] - 88s 1s/step - loss: 0.6431 - accuracy: 0.9530 - val_loss: 0.8337 - val_accuracy: 0.9148\n",
            "Epoch 18/50\n",
            "78/78 [==============================] - 89s 1s/step - loss: 0.7274 - accuracy: 0.9316 - val_loss: 0.9139 - val_accuracy: 0.8759\n"
          ]
        }
      ]
    },
    {
      "cell_type": "code",
      "source": [
        "# Plotting the training and validation accuracy and loss\n",
        "acc = history.history['accuracy']\n",
        "val_acc = history.history['val_accuracy']\n",
        "loss = history.history['loss']\n",
        "val_loss = history.history['val_loss']\n",
        "epochs = range(len(acc))\n",
        "\n",
        "plt.plot(epochs, acc, 'r', label='Training accuracy')\n",
        "plt.plot(epochs, val_acc, 'b', label='Validation accuracy')\n",
        "plt.title('Training and validation accuracy')\n",
        "plt.legend()\n",
        "plt.figure()\n",
        "\n",
        "plt.plot(epochs, loss, 'r', label='Training loss')\n",
        "plt.plot(epochs, val_loss, 'b', label='Validation loss')\n",
        "plt.title('Training and validation loss')\n",
        "plt.legend()\n",
        "\n",
        "plt.show()"
      ],
      "metadata": {
        "colab": {
          "base_uri": "https://localhost:8080/",
          "height": 887
        },
        "id": "OeNa5Cg7Yjev",
        "outputId": "9add72bf-e3ad-4d54-9208-fd7677efbb14"
      },
      "execution_count": 19,
      "outputs": [
        {
          "output_type": "display_data",
          "data": {
            "text/plain": [
              "<Figure size 640x480 with 1 Axes>"
            ],
            "image/png": "[encoded data removed]"
          },
          "metadata": {}
        },
        {
          "output_type": "display_data",
          "data": {
            "text/plain": [
              "<Figure size 640x480 with 1 Axes>"
            ],
            "image/png": "[encoded data removed]"
          },
          "metadata": {}
        }
      ]
    },
    {
      "cell_type": "code",
      "source": [
        "# Save the model\n",
        "model.save('spice_classifier_model.h5')"
      ],
      "metadata": {
        "colab": {
          "base_uri": "https://localhost:8080/"
        },
        "id": "1L4UIMfBYlaf",
        "outputId": "55f17db9-a23b-4953-9cb8-37af9cdddea9"
      },
      "execution_count": 20,
      "outputs": [
        {
          "output_type": "stream",
          "name": "stderr",
          "text": [
            "/usr/local/lib/python3.10/dist-packages/keras/src/engine/training.py:3103: UserWarning: You are saving your model as an HDF5 file via `model.save()`. This file format is considered legacy. We recommend using instead the native Keras format, e.g. `model.save('my_model.keras')`.\n",
            "  saving_api.save_model(\n"
          ]
        }
      ]
    },
    {
      "cell_type": "code",
      "source": [
        "# Convert the model to TensorFlow Lite\n",
        "converter = tf.lite.TFLiteConverter.from_keras_model(model)\n",
        "tflite_model = converter.convert()\n"
      ],
      "metadata": {
        "id": "puWgN1yBYmUn"
      },
      "execution_count": 21,
      "outputs": []
    },
    {
      "cell_type": "code",
      "source": [
        "# Save the TensorFlow Lite model to a file\n",
        "with open('spice_classifier_model.tflite', 'wb') as f:\n",
        "    f.write(tflite_model)\n"
      ],
      "metadata": {
        "id": "9QSrM_qjYnzJ"
      },
      "execution_count": 22,
      "outputs": []
    },
    {
      "cell_type": "code",
      "source": [
        "import numpy as np\n",
        "import tensorflow as tf\n",
        "from PIL import Image\n",
        "\n",
        "# Load TFLite model and allocate tensors.\n",
        "interpreter = tf.lite.Interpreter(model_path=\"/content/spice_classifier_model.tflite\")\n",
        "interpreter.allocate_tensors()\n",
        "\n",
        "# Get input and output tensors.\n",
        "input_details = interpreter.get_input_details()\n",
        "output_details = interpreter.get_output_details()"
      ],
      "metadata": {
        "id": "Jh9gikxRYrWv"
      },
      "execution_count": 23,
      "outputs": []
    },
    {
      "cell_type": "code",
      "source": [
        "# Test Predict Image\n",
        "def load_image(img_path):\n",
        "    img = Image.open(img_path).resize((150, 150))\n",
        "    img = np.array(img).astype(np.float32) / 255.0\n",
        "    img = np.expand_dims(img, axis=0)\n",
        "    return img\n",
        "\n"
      ],
      "metadata": {
        "id": "RjEA4cJ6YtY_"
      },
      "execution_count": 24,
      "outputs": []
    },
    {
      "cell_type": "code",
      "execution_count": 26,
      "metadata": {
        "colab": {
          "base_uri": "https://localhost:8080/"
        },
        "id": "riJOCbNxYIEQ",
        "outputId": "2ae74177-d16e-441f-8f93-5e68dd64ef97"
      },
      "outputs": [
        {
          "output_type": "stream",
          "name": "stdout",
          "text": [
            "{0: 'Andaliman', 1: 'Cengkeh', 2: 'Daun Salam', 3: 'Jahe', 4: 'Kemiri', 5: 'Kencur', 6: 'Ketumbar', 7: 'Lengkuas', 8: 'daunjeruk', 9: 'kayumanis', 10: 'kunyit', 11: 'pala'}\n",
            "File: kemiri 3.jpg, Predicted Class: 5 (Kencur)\n",
            "File: kemiri.jpg, Predicted Class: 4 (Kemiri)\n",
            "File: pala.jpg, Predicted Class: 11 (pala)\n",
            "File: ketumbar 3.jpg, Predicted Class: 6 (Ketumbar)\n",
            "File: jahe 2.jpg, Predicted Class: 10 (kunyit)\n",
            "File: jahe.jpg, Predicted Class: 3 (Jahe)\n",
            "File: jahe 6.jpg, Predicted Class: 3 (Jahe)\n",
            "File: cengkeh 3.jpg, Predicted Class: 1 (Cengkeh)\n",
            "File: kunyit.jpg, Predicted Class: 10 (kunyit)\n",
            "File: jahe 4.jpg, Predicted Class: 3 (Jahe)\n",
            "File: lengkuas 4.jpg, Predicted Class: 7 (Lengkuas)\n",
            "File: kencur 8.jpg, Predicted Class: 7 (Lengkuas)\n",
            "File: cengkeh 4.jpg, Predicted Class: 1 (Cengkeh)\n",
            "File: lengkuas 2.jpg, Predicted Class: 10 (kunyit)\n",
            "File: daun salam.jpg, Predicted Class: 2 (Daun Salam)\n",
            "File: kunyit 2.jpg, Predicted Class: 10 (kunyit)\n",
            "File: ketumbar 2.jpg, Predicted Class: 6 (Ketumbar)\n",
            "File: kemiri 9.jpg, Predicted Class: 4 (Kemiri)\n",
            "File: pala 5.jpg, Predicted Class: 11 (pala)\n",
            "File: jahe 7.jpg, Predicted Class: 3 (Jahe)\n",
            "File: kemiri 2.JPG, Predicted Class: 4 (Kemiri)\n",
            "File: kayu manis.jpg, Predicted Class: 9 (kayumanis)\n",
            "File: kunyit 3.jpg, Predicted Class: 10 (kunyit)\n",
            "File: kencur 7.jpg, Predicted Class: 7 (Lengkuas)\n",
            "File: kayu manis 3.jpg, Predicted Class: 9 (kayumanis)\n",
            "File: kemiri 12.jpg, Predicted Class: 11 (pala)\n",
            "File: daun salam 3.jpg, Predicted Class: 2 (Daun Salam)\n",
            "File: pala 2.jpg, Predicted Class: 11 (pala)\n",
            "File: kencur 3.jpg, Predicted Class: 10 (kunyit)\n",
            "File: kemiri 8.jpg, Predicted Class: 4 (Kemiri)\n",
            "File: lengkuas 3.jpg, Predicted Class: 7 (Lengkuas)\n",
            "File: kencur 6.jpg, Predicted Class: 5 (Kencur)\n",
            "File: kemiri 7.JPG, Predicted Class: 4 (Kemiri)\n",
            "File: kemiri 11.JPG, Predicted Class: 11 (pala)\n",
            "File: kayu manis 2.jpg, Predicted Class: 9 (kayumanis)\n",
            "File: daun jeruk 4.jpg, Predicted Class: 8 (daunjeruk)\n",
            "File: daun jeruk 3.jpg, Predicted Class: 8 (daunjeruk)\n",
            "File: ketumbar.jpg, Predicted Class: 6 (Ketumbar)\n",
            "File: jahe 5.jpg, Predicted Class: 3 (Jahe)\n",
            "File: daun salam 5.jpg, Predicted Class: 2 (Daun Salam)\n",
            "File: andaliman6.jpeg, Predicted Class: 0 (Andaliman)\n",
            "File: kencur 5.jpg, Predicted Class: 5 (Kencur)\n",
            "File: daun jeruk 5.jpg, Predicted Class: 8 (daunjeruk)\n",
            "File: pala 4.jpg, Predicted Class: 11 (pala)\n",
            "File: kencur.jpg, Predicted Class: 5 (Kencur)\n",
            "File: andaliman 4.jpg, Predicted Class: 0 (Andaliman)\n",
            "File: jahe 5 (2).jpg, Predicted Class: 3 (Jahe)\n",
            "File: kemiri 10.jpg, Predicted Class: 11 (pala)\n",
            "File: daun salam 2.jpg, Predicted Class: 2 (Daun Salam)\n",
            "File: andaliman.jpg, Predicted Class: 0 (Andaliman)\n",
            "File: kemiri 5.JPG, Predicted Class: 4 (Kemiri)\n",
            "File: kencur 2.jpg, Predicted Class: 3 (Jahe)\n",
            "File: kencur 4.jpeg, Predicted Class: 5 (Kencur)\n",
            "File: jahe 3.jpg, Predicted Class: 7 (Lengkuas)\n",
            "File: daun jeruk 2.jpg, Predicted Class: 8 (daunjeruk)\n",
            "File: kemiri 6.JPG, Predicted Class: 11 (pala)\n",
            "File: daun salam 4.jpg, Predicted Class: 2 (Daun Salam)\n",
            "File: lengkuas.jpg, Predicted Class: 7 (Lengkuas)\n",
            "File: cengkeh.jpg, Predicted Class: 1 (Cengkeh)\n",
            "File: andaliman3.jpg, Predicted Class: 6 (Ketumbar)\n",
            "File: lengkuas 5.jpg, Predicted Class: 7 (Lengkuas)\n"
          ]
        }
      ],
      "source": [
        "# Mendapatkan label kelas\n",
        "labels = train_generator.class_indices\n",
        "# Membalik dictionary untuk mendapatkan label dari indeks\n",
        "labels = {v: k for k, v in labels.items()}\n",
        "print(labels)\n",
        "\n",
        "def predict_images_in_folder(folder_path):\n",
        "    for filename in os.listdir(folder_path):\n",
        "        if filename.endswith(\".jpg\") or filename.endswith(\".jpeg\") or filename.endswith(\".png\") or filename.endswith(\".JPG\"):\n",
        "            image_path = os.path.join(folder_path, filename)\n",
        "            image = load_image(image_path)\n",
        "\n",
        "            interpreter.set_tensor(input_details[0]['index'], image)\n",
        "            interpreter.invoke()\n",
        "            output_data = interpreter.get_tensor(output_details[0]['index'])\n",
        "\n",
        "            predicted_class = np.argmax(output_data)\n",
        "            print(f\"File: {filename}, Predicted Class: {predicted_class} ({labels[predicted_class]})\")\n",
        "\n",
        "folder_path = '/content/test/'\n",
        "predict_images_in_folder(folder_path)\n"
      ]
    }
  ]
}